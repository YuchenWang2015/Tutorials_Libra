{
  "nbformat": 4,
  "nbformat_minor": 0,
  "metadata": {
    "colab": {
      "provenance": []
    },
    "kernelspec": {
      "name": "python3",
      "display_name": "Python 3"
    },
    "language_info": {
      "name": "python"
    }
  },
  "cells": [
    {
      "cell_type": "markdown",
      "source": [
        "This tutorial demonstrates how to run an Ehrenfest dynamics simulation\n",
        "for a simple polaritonic system.\n",
        "- Author: Yuchen Wang\n",
        "\n",
        "We will:\n",
        "- Define model and dynamics parameters\n",
        "- Initialize nuclear and electronic degrees of freedom\n",
        "- Run the Ehrenfest dynamics in polaritonic basis\n",
        "- Plot the resulting dynamics\n"
      ],
      "metadata": {
        "id": "h6htNBRK6hzP"
      }
    },
    {
      "cell_type": "code",
      "source": [
        "#Importing Required Libraries\n",
        "import math\n",
        "import numpy as np\n",
        "import warnings\n",
        "from functools import reduce\n",
        "\n",
        "# Core simulation modules\n",
        "from polariton import compute_model\n",
        "from liblibra_core import *\n",
        "import util.libutil as comn\n",
        "from libra_py import units\n",
        "from libra_py.models import Tully\n",
        "import libra_py.dynamics.tsh.compute as tsh_dynamics\n",
        "import libra_py.dynamics.tsh.plot as tsh_dynamics_plot\n",
        "\n",
        "# Specific dynamics recipes\n",
        "from recipes import ehrenfest_adi_ld, ehrenfest_dia, ehrenfest_adi_nac, fssh\n",
        "\n",
        "# Ignore warnings for cleaner output\n",
        "warnings.filterwarnings('ignore')\n"
      ],
      "metadata": {
        "id": "g8_F4nJfz8YI"
      },
      "execution_count": null,
      "outputs": []
    },
    {
      "cell_type": "code",
      "source": [
        "# Number of electronic states in the simulation\n",
        "nstates = 4\n",
        "# Initial electronic state index\n",
        "n_init = 1\n",
        "\n",
        "# Define polariton model parameters\n",
        "model_params = {\n",
        "    \"model\": 1,\n",
        "    \"model0\": 1,\n",
        "    \"ndof\": 1,          # Number of nuclear degrees of freedom\n",
        "    \"g_c\": 0.005,       # Light-matter coupling\n",
        "    \"omega_c\": 0.1,     # Cavity frequency (a.u.)\n",
        "    \"epsilon\": 1.0,     # Dielectric constant\n",
        "    \"nstates\": nstates\n",
        "}\n"
      ],
      "metadata": {
        "id": "qsHiDJbi0ald"
      },
      "execution_count": null,
      "outputs": []
    },
    {
      "cell_type": "code",
      "source": [
        "# Main dynamics parameters dictionary\n",
        "dyn_general = {\n",
        "    \"nsteps\": 500,                   # Total time steps\n",
        "    \"ntraj\": 2000,                   # Number of trajectories\n",
        "    \"nstates\": nstates,              # Electronic states\n",
        "    \"dt\": 0.1 * units.fs2au,         # Time step (in a.u.)\n",
        "    \"num_electronic_substeps\": 1,    # Substeps per nuclear step\n",
        "    \"isNBRA\": 0, \"is_nbra\": 0,       # Disable NBRA\n",
        "    \"progress_frequency\": 0.1,       # Progress printing frequency\n",
        "    \"which_adi_states\": range(nstates),\n",
        "    \"which_dia_states\": range(nstates),\n",
        "    \"mem_output_level\": 3,           # Memory output detail level\n",
        "    \"properties_to_save\": [\n",
        "        \"timestep\", \"time\", \"q\", \"p\", \"f\", \"Cadi\", \"Cdia\",\n",
        "        \"Epot_ave\", \"Ekin_ave\", \"Etot_ave\",\n",
        "        \"se_pop_adi\", \"se_pop_dia\",\n",
        "        \"sh_pop_adi\", \"sh_pop_dia\",\n",
        "        \"mash_pop_adi\", \"mash_pop_dia\"\n",
        "    ],\n",
        "    \"prefix\": \"adiabatic_md\",\n",
        "    \"prefix2\": \"adiabatic_md\"\n",
        "}\n",
        "\n",
        "# Load the specific Ehrenfest recipe (adiabatic NACs)\n",
        "# One can choose other receipes\n",
        "# fssh.load(dyn_general)\n",
        "#ehrenfest_adi_ld.load(dyn_general)\n",
        "# ehrenfest_dia.load(dyn_general)\n",
        "ehrenfest_adi_nac.load(dyn_general)"
      ],
      "metadata": {
        "id": "gPvEyzmf09ey"
      },
      "execution_count": null,
      "outputs": []
    },
    {
      "cell_type": "code",
      "source": [
        "# Initialization type for nuclear DOFs:\n",
        "# 0: fixed coords and momenta\n",
        "# 1: fixed coords, sampled momenta\n",
        "# 2: sampled coords, fixed momenta\n",
        "# 3: both coords and momenta sampled\n",
        "# Here the paramters are set according to the J. Chem. Phys. 157, 104118 (2022) paper\n",
        "icond_nucl = 3\n",
        "\n",
        "nucl_params = {\n",
        "    \"ndof\": 1,\n",
        "    \"q\": [-4],                       # Initial position\n",
        "    \"p\": [0.0],                      # Initial momentum\n",
        "    \"mass\": [1836.0],                 # Proton mass in a.u.\n",
        "    \"force_constant\": [0.000382**2 * 1836.0],\n",
        "    \"init_type\": icond_nucl\n",
        "}"
      ],
      "metadata": {
        "id": "Mo1lyFOK0Fo6"
      },
      "execution_count": null,
      "outputs": []
    },
    {
      "cell_type": "code",
      "source": [
        "#Initial Conditions — Electronic DOFs\n",
        "# Representation:\n",
        "# 0: diabatic wavefunctions\n",
        "# 1: adiabatic wavefunctions\n",
        "rep = 0\n",
        "\n",
        "# Initial population vector (all zeros except chosen initial state)\n",
        "istates = [0.0] * nstates\n",
        "istates[n_init] = 1.0\n",
        "\n",
        "elec_params = {\n",
        "    \"verbosity\": 2,\n",
        "    \"init_dm_type\": 0,\n",
        "    \"ndia\": nstates,\n",
        "    \"nadi\": nstates,\n",
        "    \"rep\": rep,\n",
        "    \"init_type\": 0,\n",
        "    \"istates\": istates,\n",
        "    \"istate\": n_init\n",
        "}\n"
      ],
      "metadata": {
        "id": "57AcjgqS1P8_"
      },
      "execution_count": null,
      "outputs": []
    },
    {
      "cell_type": "code",
      "source": [
        "# Running the Simulation\n",
        "# Clone the general dynamics parameters for the specific run\n",
        "dyn_params = dict(dyn_general)\n",
        "\n",
        "# Create a random number generator for stochastic parts\n",
        "rnd = Random()\n",
        "\n",
        "# Run the Ehrenfest simulation\n",
        "res = tsh_dynamics.generic_recipe(\n",
        "    dyn_params,\n",
        "    compute_model,\n",
        "    model_params,\n",
        "    elec_params,\n",
        "    nucl_params,\n",
        "    rnd\n",
        ")\n"
      ],
      "metadata": {
        "id": "kkOfBLoL1Vs4"
      },
      "execution_count": null,
      "outputs": []
    },
    {
      "cell_type": "code",
      "source": [
        "#Plotting the Results\n",
        "plot_params = {\n",
        "    \"prefix\": \"adiabatic_md\",\n",
        "    \"filename\": \"mem_data.hdf\",\n",
        "    \"output_level\": 3,\n",
        "    \"which_trajectories\": [0],\n",
        "    \"which_dofs\": [0],\n",
        "    \"which_adi_states\": list(range(nstates)),\n",
        "    \"which_dia_states\": list(range(nstates)),\n",
        "    \"frameon\": True,\n",
        "    \"linewidth\": 3,\n",
        "    \"dpi\": 300,\n",
        "    \"axes_label_fontsize\": (8,8),\n",
        "    \"legend_fontsize\": 8,\n",
        "    \"axes_fontsize\": (8,8),\n",
        "    \"title_fontsize\": 8,\n",
        "    \"what_to_plot\": [\n",
        "        \"coordinates\", \"momenta\",  \"forces\", \"energies\", \"phase_space\",\n",
        "        \"se_pop_adi\", \"se_pop_dia\", \"sh_pop_adi\", \"sh_pop_dia\",\n",
        "        \"mash_pop_adi\", \"mash_pop_dia\"\n",
        "    ],\n",
        "    \"which_energies\": [\"potential\", \"kinetic\", \"total\"],\n",
        "    \"save_figures\": 1,\n",
        "    \"do_show\": 1\n",
        "}\n",
        "\n",
        "tsh_dynamics_plot.plot_dynamics(plot_params)"
      ],
      "metadata": {
        "id": "qP3ggupJ1YuT"
      },
      "execution_count": null,
      "outputs": []
    }
  ]
}
